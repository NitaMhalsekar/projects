{
 "cells": [
  {
   "cell_type": "markdown",
   "id": "00604b89",
   "metadata": {},
   "source": [
    "# Task 1:\n",
    "\n",
    "## Aim: Enhance the emotion detection model by integrating voice tone analysis for a more comprehensive and accurate emotion recognition."
   ]
  },
  {
   "cell_type": "markdown",
   "id": "e8d1aac4",
   "metadata": {},
   "source": [
    "### Dataset used: Toronto emotion speech set"
   ]
  },
  {
   "cell_type": "markdown",
   "id": "4079070d",
   "metadata": {},
   "source": [
    "# importing all the required libraries"
   ]
  },
  {
   "cell_type": "code",
   "execution_count": 1,
   "id": "cfe0d1c0",
   "metadata": {},
   "outputs": [
    {
     "name": "stderr",
     "output_type": "stream",
     "text": [
      "C:\\ProgramData\\Anaconda3\\lib\\site-packages\\scipy\\__init__.py:155: UserWarning: A NumPy version >=1.18.5 and <1.25.0 is required for this version of SciPy (detected version 1.26.2\n",
      "  warnings.warn(f\"A NumPy version >={np_minversion} and <{np_maxversion}\"\n"
     ]
    },
    {
     "name": "stdout",
     "output_type": "stream",
     "text": [
      "Tensorflow_version: 2.11.1\n"
     ]
    }
   ],
   "source": [
    "import numpy as np\n",
    "import matplotlib.pyplot as plt \n",
    "%matplotlib inline\n",
    "from glob import glob\n",
    "import cv2\n",
    "import random,os\n",
    "from tensorflow.keras.preprocessing.image import ImageDataGenerator\n",
    "from tensorflow.keras.layers import Conv2D, MaxPooling2D, Flatten, Dense, Dropout,MaxPool2D\n",
    "from tensorflow.keras.layers import BatchNormalization,Activation\n",
    "from tensorflow.keras.models import Model,Sequential\n",
    "from tensorflow.keras.optimizers import Adam\n",
    "from tensorflow.keras.callbacks import ModelCheckpoint,ReduceLROnPlateau\n",
    "from tensorflow.keras.utils import plot_model\n",
    "from keras.layers import Input\n",
    "from tensorflow.keras.layers import Conv2D,Convolution1D\n",
    "from IPython.display import SVG,Image\n",
    "import tensorflow as tf\n",
    "print(\"Tensorflow_version:\",tf.__version__)\n",
    "import librosa\n",
    "import librosa.display\n",
    "from IPython.display import Audio\n",
    "import pandas as pd\n",
    "import warnings\n",
    "warnings.filterwarnings('ignore')"
   ]
  },
  {
   "cell_type": "markdown",
   "id": "dec765be",
   "metadata": {},
   "source": [
    "# Loading Audio Dataset"
   ]
  },
  {
   "cell_type": "code",
   "execution_count": 2,
   "id": "274afa20",
   "metadata": {},
   "outputs": [
    {
     "name": "stdout",
     "output_type": "stream",
     "text": [
      "dataset is loaded\n"
     ]
    }
   ],
   "source": [
    "paths=[]\n",
    "labels=[]\n",
    "for dirname, _,filenames in os.walk(r\"C:\\Users\\shailesh mhalsekar\\Desktop\\Audio Emotion detection\\toronto emotional speech data\"):\n",
    "    for filename in filenames:\n",
    "        paths.append(os.path.join(dirname,filename))\n",
    "        label=filename.split('_')[-1]\n",
    "        label=label.split(',')[0]\n",
    "        labels.append(label.lower())\n",
    "print(\"dataset is loaded\")"
   ]
  },
  {
   "cell_type": "code",
   "execution_count": 3,
   "id": "39488010",
   "metadata": {},
   "outputs": [
    {
     "data": {
      "text/html": [
       "<div>\n",
       "<style scoped>\n",
       "    .dataframe tbody tr th:only-of-type {\n",
       "        vertical-align: middle;\n",
       "    }\n",
       "\n",
       "    .dataframe tbody tr th {\n",
       "        vertical-align: top;\n",
       "    }\n",
       "\n",
       "    .dataframe thead th {\n",
       "        text-align: right;\n",
       "    }\n",
       "</style>\n",
       "<table border=\"1\" class=\"dataframe\">\n",
       "  <thead>\n",
       "    <tr style=\"text-align: right;\">\n",
       "      <th></th>\n",
       "      <th>speech</th>\n",
       "      <th>label</th>\n",
       "    </tr>\n",
       "  </thead>\n",
       "  <tbody>\n",
       "    <tr>\n",
       "      <th>0</th>\n",
       "      <td>C:\\Users\\shailesh mhalsekar\\Desktop\\Audio Emot...</td>\n",
       "      <td>angry.wav</td>\n",
       "    </tr>\n",
       "    <tr>\n",
       "      <th>1</th>\n",
       "      <td>C:\\Users\\shailesh mhalsekar\\Desktop\\Audio Emot...</td>\n",
       "      <td>angry.wav</td>\n",
       "    </tr>\n",
       "    <tr>\n",
       "      <th>2</th>\n",
       "      <td>C:\\Users\\shailesh mhalsekar\\Desktop\\Audio Emot...</td>\n",
       "      <td>angry.wav</td>\n",
       "    </tr>\n",
       "    <tr>\n",
       "      <th>3</th>\n",
       "      <td>C:\\Users\\shailesh mhalsekar\\Desktop\\Audio Emot...</td>\n",
       "      <td>angry.wav</td>\n",
       "    </tr>\n",
       "    <tr>\n",
       "      <th>4</th>\n",
       "      <td>C:\\Users\\shailesh mhalsekar\\Desktop\\Audio Emot...</td>\n",
       "      <td>angry.wav</td>\n",
       "    </tr>\n",
       "  </tbody>\n",
       "</table>\n",
       "</div>"
      ],
      "text/plain": [
       "                                              speech      label\n",
       "0  C:\\Users\\shailesh mhalsekar\\Desktop\\Audio Emot...  angry.wav\n",
       "1  C:\\Users\\shailesh mhalsekar\\Desktop\\Audio Emot...  angry.wav\n",
       "2  C:\\Users\\shailesh mhalsekar\\Desktop\\Audio Emot...  angry.wav\n",
       "3  C:\\Users\\shailesh mhalsekar\\Desktop\\Audio Emot...  angry.wav\n",
       "4  C:\\Users\\shailesh mhalsekar\\Desktop\\Audio Emot...  angry.wav"
      ]
     },
     "execution_count": 3,
     "metadata": {},
     "output_type": "execute_result"
    }
   ],
   "source": [
    "df=pd.DataFrame() # Creating a dataframe \n",
    "df[\"speech\"]=paths\n",
    "df[\"label\"]=labels\n",
    "df.head() # getting initial 5 rows"
   ]
  },
  {
   "cell_type": "markdown",
   "id": "77955195",
   "metadata": {},
   "source": [
    "# Extracting Features"
   ]
  },
  {
   "cell_type": "code",
   "execution_count": 4,
   "id": "0c9b2f12",
   "metadata": {},
   "outputs": [],
   "source": [
    "def extract_mfcc(filename):\n",
    "     y, sr = librosa.load(filename, duration=3, offset=0.5)\n",
    "     mfcc = np.mean(librosa.feature.mfcc(y=y, sr=sr, n_mfcc=40).T, axis=0)\n",
    "     return mfcc"
   ]
  },
  {
   "cell_type": "code",
   "execution_count": 5,
   "id": "62ef4445",
   "metadata": {},
   "outputs": [
    {
     "data": {
      "text/plain": [
       "array([-3.39321594e+02,  5.02437897e+01, -2.18205872e+01,  1.30996275e+01,\n",
       "       -2.22163544e+01,  4.74619293e+00, -9.02574778e-01, -1.91518154e+01,\n",
       "       -3.70908689e+00, -5.25005341e+00, -2.08642483e+01,  9.03661728e+00,\n",
       "       -1.37223825e+01,  9.56011772e+00,  3.22395056e-01, -7.77842474e+00,\n",
       "        4.21398848e-01, -1.14454365e+00, -5.09333801e+00,  1.93418396e+00,\n",
       "       -3.84865105e-01, -3.67262185e-01, -6.57713223e+00, -1.17523921e+00,\n",
       "       -2.11491251e+00,  3.60109258e+00,  2.96155000e+00,  6.64119053e+00,\n",
       "        8.86364555e+00,  1.28879604e+01,  1.29713392e+01,  1.36106644e+01,\n",
       "        6.75442982e+00,  6.87960768e+00,  1.33222532e+00,  5.43466616e+00,\n",
       "        1.00862420e+00,  2.95431995e+00,  1.28983438e+00,  3.57729745e+00],\n",
       "      dtype=float32)"
      ]
     },
     "execution_count": 5,
     "metadata": {},
     "output_type": "execute_result"
    }
   ],
   "source": [
    "extract_mfcc(df['speech'][0]) #Extracted Features"
   ]
  },
  {
   "cell_type": "code",
   "execution_count": 6,
   "id": "f7b962a5",
   "metadata": {},
   "outputs": [
    {
     "data": {
      "text/plain": [
       "0       [-339.3216, 50.24379, -21.820587, 13.0996275, ...\n",
       "1       [-323.86, 70.17526, -5.03724, -14.311751, -36....\n",
       "2       [-329.51895, 22.864578, 1.3039634, 8.736768, -...\n",
       "3       [-365.65436, 46.842075, -15.8241, 10.5632515, ...\n",
       "4       [-389.04993, 90.45158, 5.151686, 44.672207, 0....\n",
       "                              ...                        \n",
       "1395    [-406.48053, 80.379875, 32.462395, 46.579094, ...\n",
       "1396    [-426.90918, 102.54756, 24.800041, 43.048096, ...\n",
       "1397    [-378.50494, 80.91062, 35.300533, 39.74792, -4...\n",
       "1398    [-434.8618, 89.906364, 28.373262, 39.577065, -...\n",
       "1399    [-421.8341, 70.69788, 32.476387, 45.642555, 4....\n",
       "Name: speech, Length: 1400, dtype: object"
      ]
     },
     "execution_count": 6,
     "metadata": {},
     "output_type": "execute_result"
    }
   ],
   "source": [
    "X_mfcc = df['speech'].apply(lambda x: extract_mfcc(x))\n",
    "X_mfcc"
   ]
  },
  {
   "cell_type": "code",
   "execution_count": 7,
   "id": "04905c08",
   "metadata": {},
   "outputs": [
    {
     "data": {
      "text/plain": [
       "(1400, 40)"
      ]
     },
     "execution_count": 7,
     "metadata": {},
     "output_type": "execute_result"
    }
   ],
   "source": [
    "X = [x for x in X_mfcc]\n",
    "X = np.array(X) # converting into an array\n",
    "X.shape  # to get the shape of an array x"
   ]
  },
  {
   "cell_type": "code",
   "execution_count": 8,
   "id": "f6bc3ad7",
   "metadata": {},
   "outputs": [
    {
     "data": {
      "text/plain": [
       "(1400, 40, 1)"
      ]
     },
     "execution_count": 8,
     "metadata": {},
     "output_type": "execute_result"
    }
   ],
   "source": [
    "## input split\n",
    "X = np.expand_dims(X, -1)\n",
    "X.shape"
   ]
  },
  {
   "cell_type": "markdown",
   "id": "4ea59e54",
   "metadata": {},
   "source": [
    "# Encoding"
   ]
  },
  {
   "cell_type": "code",
   "execution_count": 9,
   "id": "e1c94e99",
   "metadata": {},
   "outputs": [
    {
     "data": {
      "text/plain": [
       "(1400, 7)"
      ]
     },
     "execution_count": 9,
     "metadata": {},
     "output_type": "execute_result"
    }
   ],
   "source": [
    "from sklearn.preprocessing import OneHotEncoder\n",
    "encode= OneHotEncoder()\n",
    "y = encode.fit_transform(df[['label']]) # encoding\n",
    "y = y.toarray() # converting into an array\n",
    "y.shape # to get the shape of an array y"
   ]
  },
  {
   "cell_type": "markdown",
   "id": "c305c8ae",
   "metadata": {},
   "source": [
    "# model creation"
   ]
  },
  {
   "cell_type": "code",
   "execution_count": 10,
   "id": "a6327d93",
   "metadata": {},
   "outputs": [
    {
     "name": "stdout",
     "output_type": "stream",
     "text": [
      "Model: \"sequential\"\n",
      "_________________________________________________________________\n",
      " Layer (type)                Output Shape              Param #   \n",
      "=================================================================\n",
      " lstm (LSTM)                 (None, 10)                480       \n",
      "                                                                 \n",
      " dropout (Dropout)           (None, 10)                0         \n",
      "                                                                 \n",
      " dense (Dense)               (None, 7)                 77        \n",
      "                                                                 \n",
      " dropout_1 (Dropout)         (None, 7)                 0         \n",
      "                                                                 \n",
      " dense_1 (Dense)             (None, 7)                 56        \n",
      "                                                                 \n",
      " dropout_2 (Dropout)         (None, 7)                 0         \n",
      "                                                                 \n",
      " dense_2 (Dense)             (None, 7)                 56        \n",
      "                                                                 \n",
      "=================================================================\n",
      "Total params: 669\n",
      "Trainable params: 669\n",
      "Non-trainable params: 0\n",
      "_________________________________________________________________\n"
     ]
    }
   ],
   "source": [
    "from keras.models import Sequential\n",
    "from keras.layers import Dense, LSTM, Dropout\n",
    "\n",
    "model = Sequential([\n",
    "    LSTM(10, return_sequences=False, input_shape=(40,1)),\n",
    "    Dropout(0.2),\n",
    "    Dense(7, activation='relu'),\n",
    "    Dropout(0.2),\n",
    "    Dense(7, activation='relu'),\n",
    "    Dropout(0.2),\n",
    "    Dense(7, activation='softmax')\n",
    "])\n",
    "\n",
    "model.compile(loss='categorical_crossentropy', optimizer='adam', metrics=['accuracy'])\n",
    "model.summary()"
   ]
  },
  {
   "cell_type": "markdown",
   "id": "f5ca458b",
   "metadata": {},
   "source": [
    "# Train the model"
   ]
  },
  {
   "cell_type": "code",
   "execution_count": 11,
   "id": "0b63c5c0",
   "metadata": {},
   "outputs": [
    {
     "name": "stdout",
     "output_type": "stream",
     "text": [
      "Epoch 1/50\n",
      "18/18 [==============================] - 9s 119ms/step - loss: 1.9100 - accuracy: 0.1955 - val_loss: 2.1409 - val_accuracy: 0.0000e+00\n",
      "Epoch 2/50\n",
      "18/18 [==============================] - 1s 35ms/step - loss: 1.8543 - accuracy: 0.2286 - val_loss: 2.2101 - val_accuracy: 0.0000e+00\n",
      "Epoch 3/50\n",
      "18/18 [==============================] - 1s 36ms/step - loss: 1.8099 - accuracy: 0.2616 - val_loss: 2.2862 - val_accuracy: 0.0000e+00\n",
      "Epoch 4/50\n",
      "18/18 [==============================] - 1s 35ms/step - loss: 1.7589 - accuracy: 0.2884 - val_loss: 2.3604 - val_accuracy: 0.0000e+00\n",
      "Epoch 5/50\n",
      "18/18 [==============================] - 1s 36ms/step - loss: 1.7165 - accuracy: 0.2812 - val_loss: 2.4287 - val_accuracy: 0.0000e+00\n",
      "Epoch 6/50\n",
      "18/18 [==============================] - 1s 35ms/step - loss: 1.6635 - accuracy: 0.3187 - val_loss: 2.4861 - val_accuracy: 0.0000e+00\n",
      "Epoch 7/50\n",
      "18/18 [==============================] - 1s 35ms/step - loss: 1.5964 - accuracy: 0.3438 - val_loss: 2.5695 - val_accuracy: 0.0000e+00\n",
      "Epoch 8/50\n",
      "18/18 [==============================] - 1s 35ms/step - loss: 1.5295 - accuracy: 0.3929 - val_loss: 2.6510 - val_accuracy: 0.0000e+00\n",
      "Epoch 9/50\n",
      "18/18 [==============================] - 1s 35ms/step - loss: 1.4735 - accuracy: 0.4571 - val_loss: 2.7504 - val_accuracy: 0.0000e+00\n",
      "Epoch 10/50\n",
      "18/18 [==============================] - 1s 37ms/step - loss: 1.4227 - accuracy: 0.4652 - val_loss: 2.8339 - val_accuracy: 0.0000e+00\n",
      "Epoch 11/50\n",
      "18/18 [==============================] - 1s 36ms/step - loss: 1.3441 - accuracy: 0.5018 - val_loss: 2.9109 - val_accuracy: 0.0000e+00\n",
      "Epoch 12/50\n",
      "18/18 [==============================] - 1s 35ms/step - loss: 1.2919 - accuracy: 0.5000 - val_loss: 3.0641 - val_accuracy: 0.0000e+00\n",
      "Epoch 13/50\n",
      "18/18 [==============================] - 1s 35ms/step - loss: 1.2583 - accuracy: 0.5098 - val_loss: 3.2525 - val_accuracy: 0.0000e+00\n",
      "Epoch 14/50\n",
      "18/18 [==============================] - 1s 35ms/step - loss: 1.2218 - accuracy: 0.5152 - val_loss: 3.3698 - val_accuracy: 0.0000e+00\n",
      "Epoch 15/50\n",
      "18/18 [==============================] - 1s 35ms/step - loss: 1.1175 - accuracy: 0.5473 - val_loss: 3.5113 - val_accuracy: 0.0000e+00\n",
      "Epoch 16/50\n",
      "18/18 [==============================] - 1s 35ms/step - loss: 1.0967 - accuracy: 0.5625 - val_loss: 3.6729 - val_accuracy: 0.0143\n",
      "Epoch 17/50\n",
      "18/18 [==============================] - 1s 36ms/step - loss: 1.0480 - accuracy: 0.5795 - val_loss: 4.0087 - val_accuracy: 0.0000e+00\n",
      "Epoch 18/50\n",
      "18/18 [==============================] - 1s 36ms/step - loss: 1.0031 - accuracy: 0.5938 - val_loss: 4.0176 - val_accuracy: 0.0000e+00\n",
      "Epoch 19/50\n",
      "18/18 [==============================] - 1s 35ms/step - loss: 0.9868 - accuracy: 0.6062 - val_loss: 4.3194 - val_accuracy: 0.0000e+00\n",
      "Epoch 20/50\n",
      "18/18 [==============================] - 1s 38ms/step - loss: 0.9344 - accuracy: 0.6313 - val_loss: 4.5373 - val_accuracy: 0.0000e+00\n",
      "Epoch 21/50\n",
      "18/18 [==============================] - 1s 35ms/step - loss: 0.9365 - accuracy: 0.6080 - val_loss: 4.4949 - val_accuracy: 0.0000e+00\n",
      "Epoch 22/50\n",
      "18/18 [==============================] - 1s 36ms/step - loss: 0.8951 - accuracy: 0.6313 - val_loss: 4.8364 - val_accuracy: 0.0000e+00\n",
      "Epoch 23/50\n",
      "18/18 [==============================] - 1s 35ms/step - loss: 0.8375 - accuracy: 0.6714 - val_loss: 4.6517 - val_accuracy: 0.0000e+00\n",
      "Epoch 24/50\n",
      "18/18 [==============================] - 1s 35ms/step - loss: 0.8519 - accuracy: 0.6634 - val_loss: 4.7858 - val_accuracy: 0.0000e+00\n",
      "Epoch 25/50\n",
      "18/18 [==============================] - 1s 35ms/step - loss: 0.8007 - accuracy: 0.6670 - val_loss: 5.1351 - val_accuracy: 0.0000e+00\n",
      "Epoch 26/50\n",
      "18/18 [==============================] - 1s 36ms/step - loss: 0.8170 - accuracy: 0.6536 - val_loss: 5.2154 - val_accuracy: 0.0000e+00\n",
      "Epoch 27/50\n",
      "18/18 [==============================] - 1s 35ms/step - loss: 0.7907 - accuracy: 0.6812 - val_loss: 4.9249 - val_accuracy: 0.0000e+00\n",
      "Epoch 28/50\n",
      "18/18 [==============================] - 1s 35ms/step - loss: 0.7470 - accuracy: 0.7063 - val_loss: 5.0886 - val_accuracy: 0.0000e+00\n",
      "Epoch 29/50\n",
      "18/18 [==============================] - 1s 35ms/step - loss: 0.7878 - accuracy: 0.6777 - val_loss: 4.8469 - val_accuracy: 0.0000e+00\n",
      "Epoch 30/50\n",
      "18/18 [==============================] - 1s 35ms/step - loss: 0.7298 - accuracy: 0.7125 - val_loss: 5.2401 - val_accuracy: 0.0000e+00\n",
      "Epoch 31/50\n",
      "18/18 [==============================] - 1s 36ms/step - loss: 0.7084 - accuracy: 0.7071 - val_loss: 5.5496 - val_accuracy: 0.0000e+00\n",
      "Epoch 32/50\n",
      "18/18 [==============================] - 1s 35ms/step - loss: 0.7286 - accuracy: 0.6938 - val_loss: 5.0088 - val_accuracy: 0.0000e+00\n",
      "Epoch 33/50\n",
      "18/18 [==============================] - 1s 37ms/step - loss: 0.6985 - accuracy: 0.7161 - val_loss: 4.8882 - val_accuracy: 0.0000e+00\n",
      "Epoch 34/50\n",
      "18/18 [==============================] - 1s 37ms/step - loss: 0.6948 - accuracy: 0.7161 - val_loss: 5.7679 - val_accuracy: 0.0000e+00\n",
      "Epoch 35/50\n",
      "18/18 [==============================] - 1s 35ms/step - loss: 0.6877 - accuracy: 0.7152 - val_loss: 4.8524 - val_accuracy: 0.0000e+00\n",
      "Epoch 36/50\n",
      "18/18 [==============================] - 1s 37ms/step - loss: 0.6500 - accuracy: 0.7277 - val_loss: 5.1690 - val_accuracy: 0.0000e+00\n",
      "Epoch 37/50\n",
      "18/18 [==============================] - 1s 36ms/step - loss: 0.6620 - accuracy: 0.7286 - val_loss: 5.7023 - val_accuracy: 0.0000e+00\n",
      "Epoch 38/50\n",
      "18/18 [==============================] - 1s 35ms/step - loss: 0.6654 - accuracy: 0.7143 - val_loss: 4.7861 - val_accuracy: 0.0000e+00\n",
      "Epoch 39/50\n",
      "18/18 [==============================] - 1s 35ms/step - loss: 0.6507 - accuracy: 0.7259 - val_loss: 5.6856 - val_accuracy: 0.0000e+00\n",
      "Epoch 40/50\n",
      "18/18 [==============================] - 1s 36ms/step - loss: 0.6239 - accuracy: 0.7357 - val_loss: 5.0547 - val_accuracy: 0.0000e+00\n",
      "Epoch 41/50\n",
      "18/18 [==============================] - 1s 36ms/step - loss: 0.6629 - accuracy: 0.7054 - val_loss: 5.6887 - val_accuracy: 0.0000e+00\n",
      "Epoch 42/50\n",
      "18/18 [==============================] - 1s 36ms/step - loss: 0.6041 - accuracy: 0.7268 - val_loss: 5.4330 - val_accuracy: 0.0000e+00\n",
      "Epoch 43/50\n",
      "18/18 [==============================] - 1s 35ms/step - loss: 0.6601 - accuracy: 0.7089 - val_loss: 5.6003 - val_accuracy: 0.0000e+00\n",
      "Epoch 44/50\n",
      "18/18 [==============================] - 1s 37ms/step - loss: 0.6695 - accuracy: 0.7125 - val_loss: 5.3775 - val_accuracy: 0.0000e+00\n",
      "Epoch 45/50\n",
      "18/18 [==============================] - 1s 36ms/step - loss: 0.6069 - accuracy: 0.7473 - val_loss: 5.6345 - val_accuracy: 0.0000e+00\n",
      "Epoch 46/50\n",
      "18/18 [==============================] - 1s 35ms/step - loss: 0.6083 - accuracy: 0.7312 - val_loss: 5.4370 - val_accuracy: 0.0000e+00\n",
      "Epoch 47/50\n",
      "18/18 [==============================] - 1s 35ms/step - loss: 0.5852 - accuracy: 0.7420 - val_loss: 5.6538 - val_accuracy: 0.0000e+00\n",
      "Epoch 48/50\n",
      "18/18 [==============================] - 1s 35ms/step - loss: 0.5741 - accuracy: 0.7482 - val_loss: 5.8074 - val_accuracy: 0.0000e+00\n",
      "Epoch 49/50\n",
      "18/18 [==============================] - 1s 34ms/step - loss: 0.5694 - accuracy: 0.7500 - val_loss: 5.7553 - val_accuracy: 0.0000e+00\n",
      "Epoch 50/50\n",
      "18/18 [==============================] - 1s 37ms/step - loss: 0.5817 - accuracy: 0.7473 - val_loss: 5.6483 - val_accuracy: 0.0000e+00\n"
     ]
    }
   ],
   "source": [
    "history = model.fit(X, y, validation_split=0.2, epochs=50, batch_size=64)"
   ]
  },
  {
   "cell_type": "code",
   "execution_count": 12,
   "id": "4d40b907",
   "metadata": {},
   "outputs": [],
   "source": [
    "## Saving the model\n",
    "model.save('Audio_detection.h5')"
   ]
  },
  {
   "cell_type": "markdown",
   "id": "d6143bf5",
   "metadata": {},
   "source": [
    "# Plotting / visualizing the results"
   ]
  },
  {
   "cell_type": "code",
   "execution_count": 13,
   "id": "ca6db6d7",
   "metadata": {},
   "outputs": [
    {
     "data": {
      "image/png": "[encoded data removed]",
      "text/plain": [
       "<Figure size 640x480 with 1 Axes>"
      ]
     },
     "metadata": {},
     "output_type": "display_data"
    }
   ],
   "source": [
    "plt.plot(history.history['loss'])\n",
    "plt.plot(history.history['val_loss'])\n",
    "plt.title('model_loss')\n",
    "plt.legend('train','validation',loc='upper left')\n",
    "plt.subplots_adjust(top=1.0,bottom=0.0,right=0.95,left=0.0,hspace=0.25,wspace=0.35)\n"
   ]
  },
  {
   "cell_type": "code",
   "execution_count": 14,
   "id": "f4ab4482",
   "metadata": {},
   "outputs": [
    {
     "data": {
      "image/png": "[encoded data removed]",
      "text/plain": [
       "<Figure size 640x480 with 1 Axes>"
      ]
     },
     "metadata": {},
     "output_type": "display_data"
    }
   ],
   "source": [
    "plt.plot(history.history['accuracy'])\n",
    "plt.plot(history.history['val_accuracy'])\n",
    "plt.title('model_accuracy')\n",
    "plt.legend('train','validation',loc='upper left')\n",
    "plt.subplots_adjust(top=1.0,bottom=0.0,right=0.95,left=0.0,hspace=0.25,wspace=0.35)\n"
   ]
  },
  {
   "cell_type": "markdown",
   "id": "4c2077d4",
   "metadata": {},
   "source": [
    "# model saving "
   ]
  },
  {
   "cell_type": "code",
   "execution_count": 15,
   "id": "e1838683",
   "metadata": {},
   "outputs": [],
   "source": [
    "model_json = model.to_json()\n",
    "with open('model_a.json','w') as json_file:\n",
    "    json_file.write(model_json)"
   ]
  },
  {
   "cell_type": "code",
   "execution_count": null,
   "id": "553bfdef",
   "metadata": {},
   "outputs": [],
   "source": []
  }
 ],
 "metadata": {
  "kernelspec": {
   "display_name": "Python 3 (ipykernel)",
   "language": "python",
   "name": "python3"
  },
  "language_info": {
   "codemirror_mode": {
    "name": "ipython",
    "version": 3
   },
   "file_extension": ".py",
   "mimetype": "text/x-python",
   "name": "python",
   "nbconvert_exporter": "python",
   "pygments_lexer": "ipython3",
   "version": "3.9.13"
  }
 },
 "nbformat": 4,
 "nbformat_minor": 5
}
