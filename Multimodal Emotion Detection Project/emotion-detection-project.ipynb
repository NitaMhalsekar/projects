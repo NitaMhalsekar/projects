{
 "cells": [
  {
   "cell_type": "markdown",
   "id": "e0b21331",
   "metadata": {},
   "source": [
    "# Importing Required Libraries"
   ]
  },
  {
   "cell_type": "code",
   "execution_count": 1,
   "id": "91a48c97",
   "metadata": {
    "execution": {
     "iopub.execute_input": "2024-01-25T16:42:40.106497Z",
     "iopub.status.busy": "2024-01-25T16:42:40.105853Z",
     "iopub.status.idle": "2024-01-25T16:42:51.313879Z",
     "shell.execute_reply": "2024-01-25T16:42:51.312937Z",
     "shell.execute_reply.started": "2024-01-25T16:42:40.106460Z"
    }
   },
   "outputs": [
    {
     "name": "stderr",
     "output_type": "stream",
     "text": [
      "/opt/conda/lib/python3.10/site-packages/scipy/__init__.py:146: UserWarning: A NumPy version >=1.16.5 and <1.23.0 is required for this version of SciPy (detected version 1.24.3\n",
      "  warnings.warn(f\"A NumPy version >={np_minversion} and <{np_maxversion}\"\n"
     ]
    },
    {
     "name": "stdout",
     "output_type": "stream",
     "text": [
      "Tensorflow_version: 2.13.0\n"
     ]
    }
   ],
   "source": [
    "import numpy as np\n",
    "import matplotlib.pyplot as plt \n",
    "%matplotlib inline\n",
    "from glob import glob\n",
    "import cv2\n",
    "import random,os\n",
    "\n",
    "from tensorflow.keras.preprocessing.image import ImageDataGenerator\n",
    "from tensorflow.keras.layers import Conv2D, MaxPooling2D, Flatten, Dense, Dropout,MaxPool2D\n",
    "from tensorflow.keras.layers import BatchNormalization,Activation\n",
    "from tensorflow.keras.models import Model,Sequential\n",
    "from tensorflow.keras.optimizers import Adam\n",
    "from tensorflow.keras.callbacks import ModelCheckpoint,ReduceLROnPlateau\n",
    "from tensorflow.keras.utils import plot_model\n",
    "from keras.layers import Input\n",
    "from tensorflow.keras.layers import Conv2D,Convolution1D\n",
    "\n",
    "from IPython.display import SVG,Image\n",
    "import tensorflow as tf\n",
    "print(\"Tensorflow_version:\",tf.__version__)\n",
    "\n",
    "import warnings\n",
    "warnings.filterwarnings('ignore')"
   ]
  },
  {
   "cell_type": "markdown",
   "id": "3a0645e2",
   "metadata": {},
   "source": [
    "# Loading dataset"
   ]
  },
  {
   "cell_type": "markdown",
   "id": "18577151",
   "metadata": {},
   "source": [
    "# Data Preprocessing"
   ]
  },
  {
   "cell_type": "code",
   "execution_count": 2,
   "id": "cfca47cd",
   "metadata": {
    "execution": {
     "iopub.execute_input": "2024-01-25T16:43:00.489814Z",
     "iopub.status.busy": "2024-01-25T16:43:00.488646Z",
     "iopub.status.idle": "2024-01-25T16:43:17.537180Z",
     "shell.execute_reply": "2024-01-25T16:43:17.536173Z",
     "shell.execute_reply.started": "2024-01-25T16:43:00.489776Z"
    }
   },
   "outputs": [
    {
     "name": "stdout",
     "output_type": "stream",
     "text": [
      "Found 28709 images belonging to 7 classes.\n"
     ]
    }
   ],
   "source": [
    "img_size=48\n",
    "batch_size=64\n",
    "datagen_train=ImageDataGenerator()\n",
    "train_generator=datagen_train.flow_from_directory('/kaggle/input/fer2013/train',target_size=(img_size,img_size),\n",
    "                                                 color_mode=\"grayscale\",\n",
    "                                                 batch_size=batch_size,\n",
    "                                                 class_mode=\"categorical\",\n",
    "                                                 shuffle=True)"
   ]
  },
  {
   "cell_type": "code",
   "execution_count": 3,
   "id": "a1b9fb5b",
   "metadata": {
    "execution": {
     "iopub.execute_input": "2024-01-25T16:43:20.308470Z",
     "iopub.status.busy": "2024-01-25T16:43:20.307580Z",
     "iopub.status.idle": "2024-01-25T16:43:24.936569Z",
     "shell.execute_reply": "2024-01-25T16:43:24.935838Z",
     "shell.execute_reply.started": "2024-01-25T16:43:20.308435Z"
    }
   },
   "outputs": [
    {
     "name": "stdout",
     "output_type": "stream",
     "text": [
      "Found 7178 images belonging to 7 classes.\n"
     ]
    }
   ],
   "source": [
    "datagen_validation=ImageDataGenerator()\n",
    "validation_generator=datagen_validation.flow_from_directory(\"/kaggle/input/fer2013/test/\",target_size=(img_size,img_size),\n",
    "                                                 color_mode=\"grayscale\",\n",
    "                                                 batch_size=batch_size,\n",
    "                                                 class_mode=\"categorical\",\n",
    "                                                 shuffle=True)"
   ]
  },
  {
   "cell_type": "markdown",
   "id": "4c848779",
   "metadata": {},
   "source": [
    "# Defining model"
   ]
  },
  {
   "cell_type": "code",
   "execution_count": 4,
   "id": "cfae71bd",
   "metadata": {
    "execution": {
     "iopub.execute_input": "2024-01-25T16:43:27.370797Z",
     "iopub.status.busy": "2024-01-25T16:43:27.370434Z",
     "iopub.status.idle": "2024-01-25T16:43:27.376175Z",
     "shell.execute_reply": "2024-01-25T16:43:27.375341Z",
     "shell.execute_reply.started": "2024-01-25T16:43:27.370767Z"
    }
   },
   "outputs": [],
   "source": [
    "def Convolution(input_tensor, filters, kernel_size):\n",
    "    x = Conv2D(filters = filters, kernel_size = kernel_size,padding = \"same\")(input_tensor)\n",
    "    x = BatchNormalization()(x)\n",
    "    x = Activation('relu')(x)\n",
    "    x = MaxPooling2D(pool_size = (2,2))(x)\n",
    "    x = Dropout(0.25)(x)\n",
    "    return x"
   ]
  },
  {
   "cell_type": "code",
   "execution_count": 5,
   "id": "cc6445c0",
   "metadata": {
    "execution": {
     "iopub.execute_input": "2024-01-25T16:43:30.983201Z",
     "iopub.status.busy": "2024-01-25T16:43:30.982479Z",
     "iopub.status.idle": "2024-01-25T16:43:30.987920Z",
     "shell.execute_reply": "2024-01-25T16:43:30.986990Z",
     "shell.execute_reply.started": "2024-01-25T16:43:30.983166Z"
    }
   },
   "outputs": [],
   "source": [
    "def Dense_f(input_tensor, nodes):\n",
    "    x = Dense(nodes)(input_tensor)\n",
    "    x = BatchNormalization()(x)\n",
    "    x = Activation('relu')(x)\n",
    "    x = Dropout(0.25)(x)\n",
    "    return x"
   ]
  },
  {
   "cell_type": "code",
   "execution_count": 6,
   "id": "80198c31",
   "metadata": {
    "execution": {
     "iopub.execute_input": "2024-01-25T16:43:34.768918Z",
     "iopub.status.busy": "2024-01-25T16:43:34.768471Z",
     "iopub.status.idle": "2024-01-25T16:43:34.776715Z",
     "shell.execute_reply": "2024-01-25T16:43:34.775671Z",
     "shell.execute_reply.started": "2024-01-25T16:43:34.768875Z"
    }
   },
   "outputs": [],
   "source": [
    "def model_fer(input_shape):\n",
    "    inputs = Input(input_shape)\n",
    "    conv_1 = Convolution(inputs,64,(3,3))\n",
    "    conv_2 = Convolution(conv_1,128,(5,5))\n",
    "    conv_3 = Convolution(conv_2,512,(3,3))\n",
    "    conv_4 = Convolution(conv_3,512,(3,3))\n",
    "    \n",
    "    flatten = Flatten()(conv_4)\n",
    "    dense_1 = Dense_f(flatten,256)\n",
    "    dense_2 = Dense_f(dense_1,512)\n",
    "    output = Dense(7,activation = 'softmax')(dense_2)\n",
    "    \n",
    "    model = Model(inputs = [inputs], outputs = [output])\n",
    "    \n",
    "    opt = Adam(lr = 0.0005)\n",
    "    model.compile(loss = ['categorical_crossentropy'], optimizer = opt,\n",
    "                          metrics = ['accuracy'])\n",
    "    return model   "
   ]
  },
  {
   "cell_type": "code",
   "execution_count": 7,
   "id": "5e7943a1",
   "metadata": {
    "execution": {
     "iopub.execute_input": "2024-01-25T16:43:38.827760Z",
     "iopub.status.busy": "2024-01-25T16:43:38.826709Z",
     "iopub.status.idle": "2024-01-25T16:43:39.956755Z",
     "shell.execute_reply": "2024-01-25T16:43:39.955844Z",
     "shell.execute_reply.started": "2024-01-25T16:43:38.827722Z"
    }
   },
   "outputs": [
    {
     "name": "stdout",
     "output_type": "stream",
     "text": [
      "Model: \"model\"\n",
      "_________________________________________________________________\n",
      " Layer (type)                Output Shape              Param #   \n",
      "=================================================================\n",
      " input_1 (InputLayer)        [(None, 48, 48, 1)]       0         \n",
      "                                                                 \n",
      " conv2d (Conv2D)             (None, 48, 48, 64)        640       \n",
      "                                                                 \n",
      " batch_normalization (Batch  (None, 48, 48, 64)        256       \n",
      " Normalization)                                                  \n",
      "                                                                 \n",
      " activation (Activation)     (None, 48, 48, 64)        0         \n",
      "                                                                 \n",
      " max_pooling2d (MaxPooling2  (None, 24, 24, 64)        0         \n",
      " D)                                                              \n",
      "                                                                 \n",
      " dropout (Dropout)           (None, 24, 24, 64)        0         \n",
      "                                                                 \n",
      " conv2d_1 (Conv2D)           (None, 24, 24, 128)       204928    \n",
      "                                                                 \n",
      " batch_normalization_1 (Bat  (None, 24, 24, 128)       512       \n",
      " chNormalization)                                                \n",
      "                                                                 \n",
      " activation_1 (Activation)   (None, 24, 24, 128)       0         \n",
      "                                                                 \n",
      " max_pooling2d_1 (MaxPoolin  (None, 12, 12, 128)       0         \n",
      " g2D)                                                            \n",
      "                                                                 \n",
      " dropout_1 (Dropout)         (None, 12, 12, 128)       0         \n",
      "                                                                 \n",
      " conv2d_2 (Conv2D)           (None, 12, 12, 512)       590336    \n",
      "                                                                 \n",
      " batch_normalization_2 (Bat  (None, 12, 12, 512)       2048      \n",
      " chNormalization)                                                \n",
      "                                                                 \n",
      " activation_2 (Activation)   (None, 12, 12, 512)       0         \n",
      "                                                                 \n",
      " max_pooling2d_2 (MaxPoolin  (None, 6, 6, 512)         0         \n",
      " g2D)                                                            \n",
      "                                                                 \n",
      " dropout_2 (Dropout)         (None, 6, 6, 512)         0         \n",
      "                                                                 \n",
      " conv2d_3 (Conv2D)           (None, 6, 6, 512)         2359808   \n",
      "                                                                 \n",
      " batch_normalization_3 (Bat  (None, 6, 6, 512)         2048      \n",
      " chNormalization)                                                \n",
      "                                                                 \n",
      " activation_3 (Activation)   (None, 6, 6, 512)         0         \n",
      "                                                                 \n",
      " max_pooling2d_3 (MaxPoolin  (None, 3, 3, 512)         0         \n",
      " g2D)                                                            \n",
      "                                                                 \n",
      " dropout_3 (Dropout)         (None, 3, 3, 512)         0         \n",
      "                                                                 \n",
      " flatten (Flatten)           (None, 4608)              0         \n",
      "                                                                 \n",
      " dense (Dense)               (None, 256)               1179904   \n",
      "                                                                 \n",
      " batch_normalization_4 (Bat  (None, 256)               1024      \n",
      " chNormalization)                                                \n",
      "                                                                 \n",
      " activation_4 (Activation)   (None, 256)               0         \n",
      "                                                                 \n",
      " dropout_4 (Dropout)         (None, 256)               0         \n",
      "                                                                 \n",
      " dense_1 (Dense)             (None, 512)               131584    \n",
      "                                                                 \n",
      " batch_normalization_5 (Bat  (None, 512)               2048      \n",
      " chNormalization)                                                \n",
      "                                                                 \n",
      " activation_5 (Activation)   (None, 512)               0         \n",
      "                                                                 \n",
      " dropout_5 (Dropout)         (None, 512)               0         \n",
      "                                                                 \n",
      " dense_2 (Dense)             (None, 7)                 3591      \n",
      "                                                                 \n",
      "=================================================================\n",
      "Total params: 4478727 (17.08 MB)\n",
      "Trainable params: 4474759 (17.07 MB)\n",
      "Non-trainable params: 3968 (15.50 KB)\n",
      "_________________________________________________________________\n"
     ]
    }
   ],
   "source": [
    "model = model_fer((48,48,1))\n",
    "model.summary()"
   ]
  },
  {
   "cell_type": "markdown",
   "id": "a953dd98",
   "metadata": {},
   "source": [
    "# Initialization of model\n",
    "\n"
   ]
  },
  {
   "cell_type": "code",
   "execution_count": 8,
   "id": "bf30afee",
   "metadata": {
    "execution": {
     "iopub.execute_input": "2024-01-25T16:43:44.987013Z",
     "iopub.status.busy": "2024-01-25T16:43:44.986643Z",
     "iopub.status.idle": "2024-01-25T16:43:44.993344Z",
     "shell.execute_reply": "2024-01-25T16:43:44.992332Z",
     "shell.execute_reply.started": "2024-01-25T16:43:44.986981Z"
    }
   },
   "outputs": [],
   "source": [
    "epochs = 15\n",
    "steps_per_epoch = train_generator.n//train_generator.batch_size\n",
    "validation_steps = validation_generator.n//validation_generator.batch_size\n",
    "\n",
    "checkpoint = ModelCheckpoint('model_weights.h5',monitor = 'val_accuracy', \n",
    "                              save_weights_only = True, mode = 'max', \n",
    "                              verbose = -1)\n",
    "reduce_lr = ReduceLROnPlateau(monitor='val_loss', factor = 0.1, patience = 2, min_lr = 0.00001)\n",
    "callbacks = [checkpoint,reduce_lr]"
   ]
  },
  {
   "cell_type": "markdown",
   "id": "019455e8",
   "metadata": {},
   "source": [
    "# Model Training"
   ]
  },
  {
   "cell_type": "code",
   "execution_count": 9,
   "id": "7da1b3b2",
   "metadata": {
    "execution": {
     "iopub.execute_input": "2024-01-25T16:43:49.226023Z",
     "iopub.status.busy": "2024-01-25T16:43:49.225184Z",
     "iopub.status.idle": "2024-01-25T16:53:09.688912Z",
     "shell.execute_reply": "2024-01-25T16:53:09.688145Z",
     "shell.execute_reply.started": "2024-01-25T16:43:49.225987Z"
    }
   },
   "outputs": [
    {
     "name": "stdout",
     "output_type": "stream",
     "text": [
      "Epoch 1/15\n"
     ]
    },
    {
     "name": "stderr",
     "output_type": "stream",
     "text": [
      "2024-01-25 16:43:51.756242: E tensorflow/core/grappler/optimizers/meta_optimizer.cc:954] layout failed: INVALID_ARGUMENT: Size of values 0 does not match size of permutation 4 @ fanin shape inmodel/dropout/dropout/SelectV2-2-TransposeNHWCToNCHW-LayoutOptimizer\n"
     ]
    },
    {
     "name": "stdout",
     "output_type": "stream",
     "text": [
      "448/448 [==============================] - 172s 367ms/step - loss: 1.7564 - accuracy: 0.3250 - val_loss: 1.5544 - val_accuracy: 0.4060 - lr: 0.0010\n",
      "Epoch 2/15\n",
      "448/448 [==============================] - 27s 60ms/step - loss: 1.3982 - accuracy: 0.4666 - val_loss: 1.2825 - val_accuracy: 0.5120 - lr: 0.0010\n",
      "Epoch 3/15\n",
      "448/448 [==============================] - 28s 63ms/step - loss: 1.2583 - accuracy: 0.5198 - val_loss: 1.3119 - val_accuracy: 0.4918 - lr: 0.0010\n",
      "Epoch 4/15\n",
      "448/448 [==============================] - 28s 62ms/step - loss: 1.0544 - accuracy: 0.6020 - val_loss: 1.0697 - val_accuracy: 0.5917 - lr: 1.0000e-04\n",
      "Epoch 6/15\n",
      "448/448 [==============================] - 29s 64ms/step - loss: 1.0063 - accuracy: 0.6212 - val_loss: 1.0469 - val_accuracy: 0.6102 - lr: 1.0000e-04\n",
      "Epoch 7/15\n",
      "448/448 [==============================] - 28s 62ms/step - loss: 0.9850 - accuracy: 0.6279 - val_loss: 1.0454 - val_accuracy: 0.6071 - lr: 1.0000e-04\n",
      "Epoch 8/15\n",
      "448/448 [==============================] - 28s 63ms/step - loss: 0.9598 - accuracy: 0.6410 - val_loss: 1.0280 - val_accuracy: 0.6189 - lr: 1.0000e-04\n",
      "Epoch 9/15\n",
      "448/448 [==============================] - 26s 57ms/step - loss: 0.9386 - accuracy: 0.6475 - val_loss: 1.0163 - val_accuracy: 0.6233 - lr: 1.0000e-04\n",
      "Epoch 10/15\n",
      "448/448 [==============================] - 27s 59ms/step - loss: 0.9218 - accuracy: 0.6561 - val_loss: 1.0209 - val_accuracy: 0.6214 - lr: 1.0000e-04\n",
      "Epoch 11/15\n",
      "448/448 [==============================] - 26s 57ms/step - loss: 0.8960 - accuracy: 0.6590 - val_loss: 1.0156 - val_accuracy: 0.6265 - lr: 1.0000e-04\n",
      "Epoch 12/15\n",
      "448/448 [==============================] - 27s 59ms/step - loss: 0.8812 - accuracy: 0.6673 - val_loss: 1.0328 - val_accuracy: 0.6251 - lr: 1.0000e-04\n",
      "Epoch 13/15\n",
      "448/448 [==============================] - 28s 63ms/step - loss: 0.8561 - accuracy: 0.6776 - val_loss: 1.0341 - val_accuracy: 0.6282 - lr: 1.0000e-04\n",
      "Epoch 14/15\n",
      "448/448 [==============================] - 29s 65ms/step - loss: 0.8232 - accuracy: 0.6935 - val_loss: 1.0012 - val_accuracy: 0.6364 - lr: 1.0000e-05\n",
      "Epoch 15/15\n",
      "448/448 [==============================] - 31s 70ms/step - loss: 0.8202 - accuracy: 0.6952 - val_loss: 0.9997 - val_accuracy: 0.6385 - lr: 1.0000e-05\n"
     ]
    }
   ],
   "source": [
    "history=model.fit(x=train_generator,steps_per_epoch=steps_per_epoch,epochs=epochs,\n",
    "                 validation_data=validation_generator,validation_steps=validation_steps,\n",
    "                 callbacks=callbacks)"
   ]
  },
  {
   "cell_type": "markdown",
   "id": "d84b6277",
   "metadata": {},
   "source": [
    "# Evaluation of model"
   ]
  },
  {
   "cell_type": "code",
   "execution_count": 10,
   "id": "74b36f5b",
   "metadata": {
    "execution": {
     "iopub.execute_input": "2024-01-25T16:53:18.650028Z",
     "iopub.status.busy": "2024-01-25T16:53:18.649389Z",
     "iopub.status.idle": "2024-01-25T16:53:24.993815Z",
     "shell.execute_reply": "2024-01-25T16:53:24.993005Z",
     "shell.execute_reply.started": "2024-01-25T16:53:18.649994Z"
    }
   },
   "outputs": [
    {
     "name": "stdout",
     "output_type": "stream",
     "text": [
      "113/113 [==============================] - 6s 55ms/step - loss: 1.0001 - accuracy: 0.6381\n"
     ]
    },
    {
     "data": {
      "text/plain": [
       "[1.0001214742660522, 0.6380607485771179]"
      ]
     },
     "execution_count": 10,
     "metadata": {},
     "output_type": "execute_result"
    }
   ],
   "source": [
    "model.evaluate(validation_generator)"
   ]
  },
  {
   "cell_type": "code",
   "execution_count": 11,
   "id": "b66f1cbb",
   "metadata": {
    "execution": {
     "iopub.execute_input": "2024-01-25T16:53:30.093805Z",
     "iopub.status.busy": "2024-01-25T16:53:30.093433Z",
     "iopub.status.idle": "2024-01-25T16:53:30.257749Z",
     "shell.execute_reply": "2024-01-25T16:53:30.256763Z",
     "shell.execute_reply.started": "2024-01-25T16:53:30.093772Z"
    }
   },
   "outputs": [],
   "source": [
    "model.save(\"Emotion_detection.h5\")"
   ]
  },
  {
   "cell_type": "markdown",
   "id": "094aabf9",
   "metadata": {},
   "source": [
    "# Plotting Loss"
   ]
  },
  {
   "cell_type": "code",
   "execution_count": 12,
   "id": "3b743cac",
   "metadata": {
    "execution": {
     "iopub.execute_input": "2024-01-25T16:53:37.983186Z",
     "iopub.status.busy": "2024-01-25T16:53:37.982550Z",
     "iopub.status.idle": "2024-01-25T16:53:38.320250Z",
     "shell.execute_reply": "2024-01-25T16:53:38.319354Z",
     "shell.execute_reply.started": "2024-01-25T16:53:37.983151Z"
    }
   },
   "outputs": [
    {
     "data": {
      "image/png": "[encoded data removed]",
      "text/plain": [
       "<Figure size 640x480 with 1 Axes>"
      ]
     },
     "metadata": {},
     "output_type": "display_data"
    }
   ],
   "source": [
    "plt.plot(history.history['loss'])\n",
    "plt.plot(history.history['val_loss'])\n",
    "plt.title('model_loss')\n",
    "plt.legend('train','validation',loc='upper left')\n",
    "plt.subplots_adjust(top=1.0,bottom=0.0,right=0.95,left=0.0,hspace=0.25,wspace=0.35)\n"
   ]
  },
  {
   "cell_type": "code",
   "execution_count": 13,
   "id": "4da450ca",
   "metadata": {
    "execution": {
     "iopub.execute_input": "2024-01-25T16:53:43.056400Z",
     "iopub.status.busy": "2024-01-25T16:53:43.055663Z",
     "iopub.status.idle": "2024-01-25T16:53:43.368099Z",
     "shell.execute_reply": "2024-01-25T16:53:43.367256Z",
     "shell.execute_reply.started": "2024-01-25T16:53:43.056361Z"
    }
   },
   "outputs": [
    {
     "data": {
      "image/png": "[encoded data removed]",
      "text/plain": [
       "<Figure size 640x480 with 1 Axes>"
      ]
     },
     "metadata": {},
     "output_type": "display_data"
    }
   ],
   "source": [
    "plt.plot(history.history['accuracy'])\n",
    "plt.plot(history.history['val_accuracy'])\n",
    "plt.title('model_accuracy')\n",
    "plt.legend('train','validation',loc='upper left')\n",
    "plt.subplots_adjust(top=1.0,bottom=0.0,right=0.95,left=0.0,hspace=0.25,wspace=0.35)\n"
   ]
  },
  {
   "cell_type": "markdown",
   "id": "5a1dfc30",
   "metadata": {},
   "source": [
    "# saving the model"
   ]
  },
  {
   "cell_type": "code",
   "execution_count": 14,
   "id": "c3fb27d7",
   "metadata": {
    "execution": {
     "iopub.execute_input": "2024-01-25T16:53:47.646653Z",
     "iopub.status.busy": "2024-01-25T16:53:47.646258Z",
     "iopub.status.idle": "2024-01-25T16:53:47.662257Z",
     "shell.execute_reply": "2024-01-25T16:53:47.661396Z",
     "shell.execute_reply.started": "2024-01-25T16:53:47.646621Z"
    }
   },
   "outputs": [],
   "source": [
    "model_json = model.to_json()\n",
    "with open('model_a.json','w') as json_file:\n",
    "    json_file.write(model_json)"
   ]
  },
  {
   "cell_type": "code",
   "execution_count": null,
   "id": "42b9e4fd",
   "metadata": {},
   "outputs": [],
   "source": []
  }
 ],
 "metadata": {
  "kaggle": {
   "accelerator": "gpu",
   "dataSources": [
    {
     "datasetId": 786787,
     "sourceId": 1351797,
     "sourceType": "datasetVersion"
    }
   ],
   "dockerImageVersionId": 30636,
   "isGpuEnabled": true,
   "isInternetEnabled": true,
   "language": "python",
   "sourceType": "notebook"
  },
  "kernelspec": {
   "display_name": "Python 3",
   "language": "python",
   "name": "python3"
  },
  "language_info": {
   "codemirror_mode": {
    "name": "ipython",
    "version": 3
   },
   "file_extension": ".py",
   "mimetype": "text/x-python",
   "name": "python",
   "nbconvert_exporter": "python",
   "pygments_lexer": "ipython3",
   "version": "3.10.12"
  }
 },
 "nbformat": 4,
 "nbformat_minor": 5
}
