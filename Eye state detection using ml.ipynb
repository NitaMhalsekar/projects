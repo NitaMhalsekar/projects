{
 "cells": [
  {
   "cell_type": "markdown",
   "id": "4d51a253",
   "metadata": {},
   "source": [
    "# Task:2"
   ]
  },
  {
   "cell_type": "markdown",
   "id": "b339e824",
   "metadata": {},
   "source": [
    "# Eye State Detection Project"
   ]
  },
  {
   "cell_type": "markdown",
   "id": "83e5f2d8",
   "metadata": {},
   "source": [
    "## Task : Design a system that detects drowsiness in a user by analyzing their eye state (open or closed) in real-time."
   ]
  },
  {
   "cell_type": "markdown",
   "id": "963f66c4",
   "metadata": {},
   "source": [
    "# Importing Required Libraries"
   ]
  },
  {
   "cell_type": "code",
   "execution_count": 1,
   "id": "e6345706",
   "metadata": {},
   "outputs": [
    {
     "name": "stderr",
     "output_type": "stream",
     "text": [
      "C:\\ProgramData\\Anaconda3\\lib\\site-packages\\scipy\\__init__.py:155: UserWarning: A NumPy version >=1.18.5 and <1.25.0 is required for this version of SciPy (detected version 1.26.2\n",
      "  warnings.warn(f\"A NumPy version >={np_minversion} and <{np_maxversion}\"\n"
     ]
    },
    {
     "name": "stdout",
     "output_type": "stream",
     "text": [
      "Tensorflow_version: 2.11.1\n"
     ]
    }
   ],
   "source": [
    "import numpy as np\n",
    "import matplotlib.pyplot as plt \n",
    "%matplotlib inline\n",
    "from glob import glob\n",
    "import cv2\n",
    "import random,os\n",
    "from tensorflow.keras.preprocessing.image import ImageDataGenerator\n",
    "from tensorflow.keras.layers import Conv2D, MaxPooling2D, Flatten, Dense, Dropout,MaxPool2D\n",
    "from tensorflow.keras.layers import BatchNormalization,Activation\n",
    "from tensorflow.keras.models import Model,Sequential\n",
    "from tensorflow.keras.optimizers import Adam\n",
    "from tensorflow.keras.callbacks import ModelCheckpoint,ReduceLROnPlateau\n",
    "from tensorflow.keras.utils import plot_model\n",
    "from keras.layers import Input\n",
    "from tensorflow.keras.layers import Conv2D,Convolution1D\n",
    "from IPython.display import SVG,Image\n",
    "import tensorflow as tf\n",
    "print(\"Tensorflow_version:\",tf.__version__)\n",
    "import warnings\n",
    "warnings.filterwarnings('ignore')"
   ]
  },
  {
   "cell_type": "markdown",
   "id": "a11c45d2",
   "metadata": {},
   "source": [
    "# Loading dataset"
   ]
  },
  {
   "cell_type": "code",
   "execution_count": 2,
   "id": "b1baad05",
   "metadata": {},
   "outputs": [
    {
     "name": "stdout",
     "output_type": "stream",
     "text": [
      "Found 8749 images belonging to 2 classes.\n"
     ]
    }
   ],
   "source": [
    "# Getting training set\n",
    "\n",
    "img_size=48\n",
    "batch_size=64\n",
    "datagen_train=ImageDataGenerator()\n",
    "train_generator=datagen_train.flow_from_directory(r\"C:\\Users\\shailesh mhalsekar\\Downloads\\eye-detection\\train\",target_size=(img_size,img_size),\n",
    "                                                 color_mode=\"grayscale\",\n",
    "                                                 batch_size=batch_size,\n",
    "                                                 class_mode=\"categorical\",\n",
    "                                                 shuffle=True)"
   ]
  },
  {
   "cell_type": "code",
   "execution_count": 3,
   "id": "d7df13ae",
   "metadata": {},
   "outputs": [
    {
     "name": "stdout",
     "output_type": "stream",
     "text": [
      "Found 2018 images belonging to 2 classes.\n"
     ]
    }
   ],
   "source": [
    "# Getting validation set\n",
    "\n",
    "datagen_validation=ImageDataGenerator()\n",
    "validation_generator=datagen_validation.flow_from_directory(r\"C:\\Users\\shailesh mhalsekar\\Downloads\\eye-detection\\test\",target_size=(img_size,img_size),\n",
    "                                                 color_mode=\"grayscale\",\n",
    "                                                 batch_size=batch_size,\n",
    "                                                 class_mode=\"categorical\",\n",
    "                                                 shuffle=True)"
   ]
  },
  {
   "cell_type": "markdown",
   "id": "646e318e",
   "metadata": {},
   "source": [
    "# Defining model"
   ]
  },
  {
   "cell_type": "code",
   "execution_count": 4,
   "id": "5b2aecbd",
   "metadata": {},
   "outputs": [],
   "source": [
    "def Convolution(input_tensor, filters, kernel_size):\n",
    "    x = Conv2D(filters = filters, kernel_size = kernel_size,padding = \"same\")(input_tensor)\n",
    "    x = BatchNormalization()(x)\n",
    "    x = Activation('relu')(x)\n",
    "    x = MaxPooling2D(pool_size = (2,2))(x)\n",
    "    x = Dropout(0.25)(x)\n",
    "    return x"
   ]
  },
  {
   "cell_type": "code",
   "execution_count": 5,
   "id": "51db3d75",
   "metadata": {},
   "outputs": [],
   "source": [
    "def Dense_f(input_tensor, nodes):\n",
    "    x = Dense(nodes)(input_tensor)\n",
    "    x = BatchNormalization()(x)\n",
    "    x = Activation('relu')(x)\n",
    "    x = Dropout(0.25)(x)\n",
    "    return x"
   ]
  },
  {
   "cell_type": "code",
   "execution_count": 6,
   "id": "72960b9d",
   "metadata": {},
   "outputs": [],
   "source": [
    "def model_fer(input_shape):\n",
    "    inputs = Input(input_shape)\n",
    "    conv_1 = Convolution(inputs,64,(3,3))\n",
    "    conv_2 = Convolution(conv_1,128,(5,5))\n",
    "    conv_3 = Convolution(conv_2,512,(3,3))\n",
    "    conv_4 = Convolution(conv_3,512,(3,3))\n",
    "    \n",
    "    flatten = Flatten()(conv_4)\n",
    "    dense_1 = Dense_f(flatten,256)\n",
    "    dense_2 = Dense_f(dense_1,512)\n",
    "    output = Dense(2,activation = 'softmax')(dense_2)\n",
    "    \n",
    "    model = Model(inputs = [inputs], outputs = [output])\n",
    "    \n",
    "    opt = Adam(lr = 0.0005)\n",
    "    model.compile(loss = ['categorical_crossentropy'], optimizer = opt,\n",
    "                          metrics = ['accuracy'])\n",
    "    return model   "
   ]
  },
  {
   "cell_type": "markdown",
   "id": "1d7f7896",
   "metadata": {},
   "source": [
    "# Getting summary of the model"
   ]
  },
  {
   "cell_type": "code",
   "execution_count": 7,
   "id": "34acb45b",
   "metadata": {},
   "outputs": [
    {
     "name": "stderr",
     "output_type": "stream",
     "text": [
      "WARNING:absl:`lr` is deprecated, please use `learning_rate` instead, or use the legacy optimizer, e.g.,tf.keras.optimizers.legacy.Adam.\n"
     ]
    },
    {
     "name": "stdout",
     "output_type": "stream",
     "text": [
      "Model: \"model\"\n",
      "_________________________________________________________________\n",
      " Layer (type)                Output Shape              Param #   \n",
      "=================================================================\n",
      " input_1 (InputLayer)        [(None, 48, 48, 1)]       0         \n",
      "                                                                 \n",
      " conv2d (Conv2D)             (None, 48, 48, 64)        640       \n",
      "                                                                 \n",
      " batch_normalization (BatchN  (None, 48, 48, 64)       256       \n",
      " ormalization)                                                   \n",
      "                                                                 \n",
      " activation (Activation)     (None, 48, 48, 64)        0         \n",
      "                                                                 \n",
      " max_pooling2d (MaxPooling2D  (None, 24, 24, 64)       0         \n",
      " )                                                               \n",
      "                                                                 \n",
      " dropout (Dropout)           (None, 24, 24, 64)        0         \n",
      "                                                                 \n",
      " conv2d_1 (Conv2D)           (None, 24, 24, 128)       204928    \n",
      "                                                                 \n",
      " batch_normalization_1 (Batc  (None, 24, 24, 128)      512       \n",
      " hNormalization)                                                 \n",
      "                                                                 \n",
      " activation_1 (Activation)   (None, 24, 24, 128)       0         \n",
      "                                                                 \n",
      " max_pooling2d_1 (MaxPooling  (None, 12, 12, 128)      0         \n",
      " 2D)                                                             \n",
      "                                                                 \n",
      " dropout_1 (Dropout)         (None, 12, 12, 128)       0         \n",
      "                                                                 \n",
      " conv2d_2 (Conv2D)           (None, 12, 12, 512)       590336    \n",
      "                                                                 \n",
      " batch_normalization_2 (Batc  (None, 12, 12, 512)      2048      \n",
      " hNormalization)                                                 \n",
      "                                                                 \n",
      " activation_2 (Activation)   (None, 12, 12, 512)       0         \n",
      "                                                                 \n",
      " max_pooling2d_2 (MaxPooling  (None, 6, 6, 512)        0         \n",
      " 2D)                                                             \n",
      "                                                                 \n",
      " dropout_2 (Dropout)         (None, 6, 6, 512)         0         \n",
      "                                                                 \n",
      " conv2d_3 (Conv2D)           (None, 6, 6, 512)         2359808   \n",
      "                                                                 \n",
      " batch_normalization_3 (Batc  (None, 6, 6, 512)        2048      \n",
      " hNormalization)                                                 \n",
      "                                                                 \n",
      " activation_3 (Activation)   (None, 6, 6, 512)         0         \n",
      "                                                                 \n",
      " max_pooling2d_3 (MaxPooling  (None, 3, 3, 512)        0         \n",
      " 2D)                                                             \n",
      "                                                                 \n",
      " dropout_3 (Dropout)         (None, 3, 3, 512)         0         \n",
      "                                                                 \n",
      " flatten (Flatten)           (None, 4608)              0         \n",
      "                                                                 \n",
      " dense (Dense)               (None, 256)               1179904   \n",
      "                                                                 \n",
      " batch_normalization_4 (Batc  (None, 256)              1024      \n",
      " hNormalization)                                                 \n",
      "                                                                 \n",
      " activation_4 (Activation)   (None, 256)               0         \n",
      "                                                                 \n",
      " dropout_4 (Dropout)         (None, 256)               0         \n",
      "                                                                 \n",
      " dense_1 (Dense)             (None, 512)               131584    \n",
      "                                                                 \n",
      " batch_normalization_5 (Batc  (None, 512)              2048      \n",
      " hNormalization)                                                 \n",
      "                                                                 \n",
      " activation_5 (Activation)   (None, 512)               0         \n",
      "                                                                 \n",
      " dropout_5 (Dropout)         (None, 512)               0         \n",
      "                                                                 \n",
      " dense_2 (Dense)             (None, 2)                 1026      \n",
      "                                                                 \n",
      "=================================================================\n",
      "Total params: 4,476,162\n",
      "Trainable params: 4,472,194\n",
      "Non-trainable params: 3,968\n",
      "_________________________________________________________________\n"
     ]
    }
   ],
   "source": [
    "model = model_fer((48,48,1))\n",
    "model.summary()"
   ]
  },
  {
   "cell_type": "markdown",
   "id": "6d5b7234",
   "metadata": {},
   "source": [
    "# Initialization of model\n",
    "\n"
   ]
  },
  {
   "cell_type": "code",
   "execution_count": 8,
   "id": "429a0557",
   "metadata": {},
   "outputs": [],
   "source": [
    "epochs = 10 # initializing number of epochs\n",
    "steps_per_epoch = train_generator.n//train_generator.batch_size\n",
    "validation_steps = validation_generator.n//validation_generator.batch_size\n",
    "\n",
    "checkpoint = ModelCheckpoint('model_weights.h5',monitor = 'val_accuracy', \n",
    "                              save_weights_only = True, mode = 'max', \n",
    "                              verbose = 1)\n",
    "reduce_lr = ReduceLROnPlateau(monitor='val_loss', factor = 0.1, patience = 2, min_lr = 0.00001)\n",
    "callbacks = [checkpoint,reduce_lr]"
   ]
  },
  {
   "cell_type": "markdown",
   "id": "28ecfaa5",
   "metadata": {},
   "source": [
    "# Model Training"
   ]
  },
  {
   "cell_type": "code",
   "execution_count": 9,
   "id": "b8323c05",
   "metadata": {},
   "outputs": [
    {
     "name": "stdout",
     "output_type": "stream",
     "text": [
      "Epoch 1/10\n",
      "136/136 [==============================] - ETA: 0s - loss: 0.1546 - accuracy: 0.9383\n",
      "Epoch 1: saving model to model_weights.h5\n",
      "136/136 [==============================] - 349s 2s/step - loss: 0.1546 - accuracy: 0.9383 - val_loss: 0.5016 - val_accuracy: 0.9073 - lr: 0.0010\n",
      "Epoch 2/10\n",
      "136/136 [==============================] - ETA: 0s - loss: 0.0460 - accuracy: 0.9835\n",
      "Epoch 2: saving model to model_weights.h5\n",
      "136/136 [==============================] - 311s 2s/step - loss: 0.0460 - accuracy: 0.9835 - val_loss: 0.1207 - val_accuracy: 0.9652 - lr: 0.0010\n",
      "Epoch 3/10\n",
      "136/136 [==============================] - ETA: 0s - loss: 0.0246 - accuracy: 0.9910\n",
      "Epoch 3: saving model to model_weights.h5\n",
      "136/136 [==============================] - 316s 2s/step - loss: 0.0246 - accuracy: 0.9910 - val_loss: 0.1329 - val_accuracy: 0.9708 - lr: 0.0010\n",
      "Epoch 4/10\n",
      "136/136 [==============================] - ETA: 0s - loss: 0.0194 - accuracy: 0.9929\n",
      "Epoch 4: saving model to model_weights.h5\n",
      "136/136 [==============================] - 319s 2s/step - loss: 0.0194 - accuracy: 0.9929 - val_loss: 0.0696 - val_accuracy: 0.9788 - lr: 0.0010\n",
      "Epoch 5/10\n",
      "136/136 [==============================] - ETA: 0s - loss: 0.0180 - accuracy: 0.9941\n",
      "Epoch 5: saving model to model_weights.h5\n",
      "136/136 [==============================] - 318s 2s/step - loss: 0.0180 - accuracy: 0.9941 - val_loss: 0.0888 - val_accuracy: 0.9798 - lr: 0.0010\n",
      "Epoch 6/10\n",
      "136/136 [==============================] - ETA: 0s - loss: 0.0084 - accuracy: 0.9968\n",
      "Epoch 6: saving model to model_weights.h5\n",
      "136/136 [==============================] - 314s 2s/step - loss: 0.0084 - accuracy: 0.9968 - val_loss: 0.1557 - val_accuracy: 0.9582 - lr: 0.0010\n",
      "Epoch 7/10\n",
      "136/136 [==============================] - ETA: 0s - loss: 0.0055 - accuracy: 0.9983\n",
      "Epoch 7: saving model to model_weights.h5\n",
      "136/136 [==============================] - 314s 2s/step - loss: 0.0055 - accuracy: 0.9983 - val_loss: 0.1367 - val_accuracy: 0.9698 - lr: 1.0000e-04\n",
      "Epoch 8/10\n",
      "136/136 [==============================] - ETA: 0s - loss: 0.0049 - accuracy: 0.9986\n",
      "Epoch 8: saving model to model_weights.h5\n",
      "136/136 [==============================] - 312s 2s/step - loss: 0.0049 - accuracy: 0.9986 - val_loss: 0.1117 - val_accuracy: 0.9763 - lr: 1.0000e-04\n",
      "Epoch 9/10\n",
      "136/136 [==============================] - ETA: 0s - loss: 0.0037 - accuracy: 0.9988\n",
      "Epoch 9: saving model to model_weights.h5\n",
      "136/136 [==============================] - 311s 2s/step - loss: 0.0037 - accuracy: 0.9988 - val_loss: 0.1155 - val_accuracy: 0.9738 - lr: 1.0000e-05\n",
      "Epoch 10/10\n",
      "136/136 [==============================] - ETA: 0s - loss: 0.0037 - accuracy: 0.9990\n",
      "Epoch 10: saving model to model_weights.h5\n",
      "136/136 [==============================] - 313s 2s/step - loss: 0.0037 - accuracy: 0.9990 - val_loss: 0.1120 - val_accuracy: 0.9743 - lr: 1.0000e-05\n"
     ]
    }
   ],
   "source": [
    "history=model.fit(x=train_generator,steps_per_epoch=steps_per_epoch,epochs=epochs,\n",
    "                 validation_data=validation_generator,validation_steps=validation_steps,\n",
    "                 callbacks=callbacks)"
   ]
  },
  {
   "cell_type": "markdown",
   "id": "d8fddb1f",
   "metadata": {},
   "source": [
    "# Evaluation of model"
   ]
  },
  {
   "cell_type": "code",
   "execution_count": 10,
   "id": "91f118e9",
   "metadata": {},
   "outputs": [
    {
     "name": "stdout",
     "output_type": "stream",
     "text": [
      "32/32 [==============================] - 14s 433ms/step - loss: 0.1107 - accuracy: 0.9742\n"
     ]
    },
    {
     "data": {
      "text/plain": [
       "[0.11071796715259552, 0.9742318987846375]"
      ]
     },
     "execution_count": 10,
     "metadata": {},
     "output_type": "execute_result"
    }
   ],
   "source": [
    "model.evaluate(validation_generator)"
   ]
  },
  {
   "cell_type": "markdown",
   "id": "5f941359",
   "metadata": {},
   "source": [
    "# Plotting Loss"
   ]
  },
  {
   "cell_type": "code",
   "execution_count": 11,
   "id": "1ec9b1b9",
   "metadata": {},
   "outputs": [
    {
     "data": {
      "image/png": "[encoded data removed]",
      "text/plain": [
       "<Figure size 640x480 with 1 Axes>"
      ]
     },
     "metadata": {},
     "output_type": "display_data"
    }
   ],
   "source": [
    "plt.plot(history.history['loss'])\n",
    "plt.plot(history.history['val_loss'])\n",
    "plt.title('model_loss')\n",
    "plt.legend('train','validation',loc='upper left')\n",
    "plt.subplots_adjust(top=1.0,bottom=0.0,right=0.95,left=0.0,hspace=0.25,wspace=0.35)\n"
   ]
  },
  {
   "cell_type": "code",
   "execution_count": 12,
   "id": "545f2c46",
   "metadata": {},
   "outputs": [
    {
     "data": {
      "image/png": "[encoded data removed]",
      "text/plain": [
       "<Figure size 640x480 with 1 Axes>"
      ]
     },
     "metadata": {},
     "output_type": "display_data"
    }
   ],
   "source": [
    "plt.plot(history.history['accuracy'])\n",
    "plt.plot(history.history['val_accuracy'])\n",
    "plt.title('model_accuracy')\n",
    "plt.legend('train','validation',loc='upper left')\n",
    "plt.subplots_adjust(top=1.0,bottom=0.0,right=0.95,left=0.0,hspace=0.25,wspace=0.35)\n"
   ]
  },
  {
   "cell_type": "markdown",
   "id": "f73fb235",
   "metadata": {},
   "source": [
    "# saving the model"
   ]
  },
  {
   "cell_type": "code",
   "execution_count": 13,
   "id": "4d68ef62",
   "metadata": {},
   "outputs": [],
   "source": [
    "model_json = model.to_json()\n",
    "with open('model_a.json','w') as json_file:\n",
    "    json_file.write(model_json)"
   ]
  },
  {
   "cell_type": "code",
   "execution_count": null,
   "id": "5b1df5c5",
   "metadata": {},
   "outputs": [],
   "source": []
  }
 ],
 "metadata": {
  "kernelspec": {
   "display_name": "Python 3 (ipykernel)",
   "language": "python",
   "name": "python3"
  },
  "language_info": {
   "codemirror_mode": {
    "name": "ipython",
    "version": 3
   },
   "file_extension": ".py",
   "mimetype": "text/x-python",
   "name": "python",
   "nbconvert_exporter": "python",
   "pygments_lexer": "ipython3",
   "version": "3.9.13"
  }
 },
 "nbformat": 4,
 "nbformat_minor": 5
}
