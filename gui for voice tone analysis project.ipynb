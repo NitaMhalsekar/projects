{
 "cells": [
  {
   "cell_type": "markdown",
   "id": "515e0a8e",
   "metadata": {},
   "source": [
    "# Importing Required Libraries"
   ]
  },
  {
   "cell_type": "code",
   "execution_count": 1,
   "id": "2b39fd3f",
   "metadata": {},
   "outputs": [
    {
     "name": "stderr",
     "output_type": "stream",
     "text": [
      "C:\\ProgramData\\Anaconda3\\lib\\site-packages\\scipy\\__init__.py:155: UserWarning: A NumPy version >=1.18.5 and <1.25.0 is required for this version of SciPy (detected version 1.26.2\n",
      "  warnings.warn(f\"A NumPy version >={np_minversion} and <{np_maxversion}\"\n"
     ]
    }
   ],
   "source": [
    "import tkinter as tk\n",
    "from tkinter import filedialog\n",
    "import librosa\n",
    "import numpy as np\n",
    "from tensorflow.keras.models import load_model"
   ]
  },
  {
   "cell_type": "code",
   "execution_count": 2,
   "id": "36afc102",
   "metadata": {},
   "outputs": [],
   "source": [
    "# Load your pre-trained emotion detection model\n",
    "model = load_model('Audio_detection.h5')"
   ]
  },
  {
   "cell_type": "code",
   "execution_count": 3,
   "id": "8d3a9e80",
   "metadata": {},
   "outputs": [],
   "source": [
    "def predict_emotion(file_path):\n",
    "        # Load audio file and extract features\n",
    "        audio_data, _ = librosa.load(file_path, sr=None)\n",
    "        if audio_data is None:\n",
    "            raise ValueError(\"failed to load audio file\")\n",
    "        features = extract_features(audio_data)\n",
    "\n",
    "        # Make prediction using the loaded model\n",
    "        prediction = model.predict(features.reshape(1, -1))[0]\n",
    "        emotion_labels = ['Angry','disgust' ,'fear','Happy', 'neutral','ps','Sad']\n",
    "        predicted_emotion = emotion_labels[np.argmax(prediction)]\n",
    "\n",
    "        return predicted_emotion"
   ]
  },
  {
   "cell_type": "code",
   "execution_count": 4,
   "id": "5de6a071",
   "metadata": {},
   "outputs": [],
   "source": [
    "def extract_features(audio_data):\n",
    "    # Implement feature extraction (e.g., MFCC)\n",
    "    mfccs = librosa.feature.mfcc(y=audio_data, sr=None, n_mfcc=13)\n",
    "    return mfccs.flatten()\n"
   ]
  },
  {
   "cell_type": "code",
   "execution_count": 5,
   "id": "90d5a945",
   "metadata": {},
   "outputs": [],
   "source": [
    "def browse_file():\n",
    "        file_path = filedialog.askopenfilename(filetypes=[(\"Audio files\", \"*.wav;*.mp3\")])\n",
    "        if file_path:\n",
    "            emotion = predict_emotion(file_path)\n",
    "            result_label.config(text=f'Predicted Emotion: {emotion}')"
   ]
  },
  {
   "cell_type": "code",
   "execution_count": null,
   "id": "c5ebded6",
   "metadata": {},
   "outputs": [],
   "source": [
    "# GUI setup\n",
    "app = tk.Tk()\n",
    "app.title(\"Audio Emotion Detection\")\n",
    "\n",
    "browse_button = tk.Button(app, text=\"Browse\", command=browse_file)\n",
    "browse_button.pack(pady=20)\n",
    "\n",
    "result_label = tk.Label(app, text=\"\")\n",
    "result_label.pack(pady=20)\n",
    "\n",
    "app.mainloop()"
   ]
  },
  {
   "cell_type": "code",
   "execution_count": null,
   "id": "a68fcd3a",
   "metadata": {},
   "outputs": [],
   "source": []
  },
  {
   "cell_type": "code",
   "execution_count": null,
   "id": "734ad391",
   "metadata": {},
   "outputs": [],
   "source": []
  }
 ],
 "metadata": {
  "kernelspec": {
   "display_name": "Python 3 (ipykernel)",
   "language": "python",
   "name": "python3"
  },
  "language_info": {
   "codemirror_mode": {
    "name": "ipython",
    "version": 3
   },
   "file_extension": ".py",
   "mimetype": "text/x-python",
   "name": "python",
   "nbconvert_exporter": "python",
   "pygments_lexer": "ipython3",
   "version": "3.9.13"
  }
 },
 "nbformat": 4,
 "nbformat_minor": 5
}
