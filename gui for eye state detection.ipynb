{
 "cells": [
  {
   "cell_type": "markdown",
   "id": "9236ee10",
   "metadata": {},
   "source": [
    "# GUI file for eye state detection"
   ]
  },
  {
   "cell_type": "markdown",
   "id": "b4819688",
   "metadata": {},
   "source": [
    "## importing required libraries"
   ]
  },
  {
   "cell_type": "code",
   "execution_count": null,
   "id": "21f706df",
   "metadata": {},
   "outputs": [],
   "source": [
    "import tkinter as tk\n",
    "from tkinter import filedialog\n",
    "from tkinter import *\n",
    "\n",
    "from tensorflow.keras.models import model_from_json\n",
    "from PIL import Image, ImageTk\n",
    "import numpy as np\n",
    "import cv2\n"
   ]
  },
  {
   "cell_type": "code",
   "execution_count": null,
   "id": "8cd22b7b",
   "metadata": {},
   "outputs": [],
   "source": [
    "# using \"https://github.com/opencv/opencv/tree/master/data/haarcascades\" to detect eyestate.\n",
    "\n",
    "def Eye_state(json_file,weights_file):\n",
    "    with open(json_file,\"r\") as file:\n",
    "        loaded_model_json = file.read()\n",
    "        model = model_from_json(loaded_model_json)\n",
    "    model.load_weights(weights_file)\n",
    "    model.compile(optimizer = 'adam', loss = 'categorical_crossentropy', metrics = ['accuracy'])\n",
    "    return model\n",
    "\n",
    "top = tk.Tk()\n",
    "top.geometry('800x600')\n",
    "top.title('EyeBlink Detector')\n",
    "top.configure(background = '#CDCDCD')\n",
    "label1 = Label(top, background = '#CDCDCD', font = ('arial',15,'bold'))\n",
    "sign_image = Label(top)\n",
    "\n",
    "facec = cv2.CascadeClassifier('haarcascade_frontalface_default.xml')\n",
    "\n",
    "model = Eye_state('model_a.json','model_weights.h5')\n",
    "\n",
    "EMOTIONS_LIST = [\"open\",\"closed\"]"
   ]
  },
  {
   "cell_type": "code",
   "execution_count": null,
   "id": "13336572",
   "metadata": {},
   "outputs": [],
   "source": [
    "def Detect(file_path):\n",
    "    global Label_packed\n",
    "    image = cv2.imread(file_path)\n",
    "    gray_image = cv2.cvtColor(image,cv2.COLOR_BGR2GRAY)\n",
    "    faces = facec.detectMultiScale(gray_image,1.3,5)\n",
    "    try:\n",
    "        for (x,y,w,h) in faces:\n",
    "            fc = gray_image[y:y+h,x:x+w]\n",
    "            roi = cv2.resize(fc,(48,48))\n",
    "            pred = EMOTIONS_LIST[np.argmax(model.predict(roi[np.newaxis,:,:,np.newaxis]))]\n",
    "        pr = \"Predicted Emotion is \"+pred\n",
    "        label1.configure(foreground = '#011638', text = pr)\n",
    "    except:\n",
    "        label1.configure(foreground = '#011638', text = \"Unable to detect\")\n",
    "\n",
    "        \n",
    "def show_Detect_button(file_path):\n",
    "    detect_b = Button(top, text='Detect Eyeblink', command = lambda: Detect(file_path), padx = 10, pady = 5)\n",
    "    detect_b.configure(background = '#364156',foreground = 'white', font = ('arial',10,'bold'))\n",
    "    detect_b.place(relx = 0.79,rely = 0.46)\n",
    "    \n",
    "\n",
    "def upload_image():\n",
    "    try:\n",
    "        file_path = filedialog.askopenfilename()\n",
    "        uploaded = Image.open(file_path)\n",
    "        uploaded.thumbnail(((top.winfo_width()/2.3),(top.winfo_height()/2.3)))\n",
    "        im = ImageTk.PhotoImage(uploaded)\n",
    "        \n",
    "        sign_image.configure(image = im)\n",
    "        sign_image.image = im\n",
    "        label1.configure(text = '')\n",
    "        show_Detect_button(file_path)\n",
    "    except:\n",
    "        pass\n",
    "    \n",
    "upload = Button(top, text = \"Upload Image\", command = upload_image, padx = 10,pady = 5)\n",
    "upload.configure(background = '#364156',foreground = 'white', font = ('arial',20,'bold'))\n",
    "upload.pack(side = 'bottom',pady = 50)\n",
    "\n",
    "sign_image.pack(side = 'bottom', expand = 'True')\n",
    "label1.pack(side = 'bottom', expand = 'True')\n",
    "heading = Label(top,text = 'Eyeblink detector', pady = 20, font = ('arial',25,'bold'))\n",
    "heading.configure(background = '#CDCDCD',foreground = '#364156')\n",
    "heading.pack()\n",
    "top.mainloop()"
   ]
  },
  {
   "cell_type": "code",
   "execution_count": null,
   "id": "4ce4dcc0",
   "metadata": {},
   "outputs": [],
   "source": []
  }
 ],
 "metadata": {
  "kernelspec": {
   "display_name": "Python 3 (ipykernel)",
   "language": "python",
   "name": "python3"
  },
  "language_info": {
   "codemirror_mode": {
    "name": "ipython",
    "version": 3
   },
   "file_extension": ".py",
   "mimetype": "text/x-python",
   "name": "python",
   "nbconvert_exporter": "python",
   "pygments_lexer": "ipython3",
   "version": "3.9.13"
  }
 },
 "nbformat": 4,
 "nbformat_minor": 5
}
